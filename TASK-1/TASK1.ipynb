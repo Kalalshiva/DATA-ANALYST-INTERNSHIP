{
 "cells": [
  {
   "cell_type": "code",
   "execution_count": 2,
   "metadata": {},
   "outputs": [
    {
     "name": "stdout",
     "output_type": "stream",
     "text": [
      " Data cleaning complete! File saved as 'sample_data_cleaned.csv'.\n"
     ]
    },
    {
     "name": "stderr",
     "output_type": "stream",
     "text": [
      "<>:3: SyntaxWarning: invalid escape sequence '\\I'\n",
      "<>:15: SyntaxWarning: invalid escape sequence '\\I'\n",
      "<>:3: SyntaxWarning: invalid escape sequence '\\I'\n",
      "<>:15: SyntaxWarning: invalid escape sequence '\\I'\n",
      "C:\\Users\\Shiva Prasad\\AppData\\Local\\Temp\\ipykernel_7448\\755652893.py:3: SyntaxWarning: invalid escape sequence '\\I'\n",
      "  file_path = \"E:\\INTERNSHIP\\sample data.csv\"\n",
      "C:\\Users\\Shiva Prasad\\AppData\\Local\\Temp\\ipykernel_7448\\755652893.py:15: SyntaxWarning: invalid escape sequence '\\I'\n",
      "  df.to_csv(\"E:\\INTERNSHIP\\sample data.csv\", index=False)\n"
     ]
    }
   ],
   "source": [
    "import pandas as pd\n",
    "\n",
    "file_path = \"E:\\INTERNSHIP\\sample data.csv\"\n",
    "df = pd.read_csv(file_path, encoding='latin1')\n",
    "df['STATE'] = df['STATE'].fillna('Unknown')\n",
    "df['TERRITORY'] = df['TERRITORY'].fillna('Unknown')\n",
    "df['POSTALCODE'] = df['POSTALCODE'].fillna('00000')\n",
    "df = df.drop_duplicates()\n",
    "df['COUNTRY'] = df['COUNTRY'].str.title().str.strip()\n",
    "df['STATUS'] = df['STATUS'].str.title().str.strip()\n",
    "df['DEALSIZE'] = df['DEALSIZE'].str.title().str.strip()\n",
    "df['ORDERDATE'] = pd.to_datetime(df['ORDERDATE'], errors='coerce')\n",
    "df.columns = df.columns.str.lower().str.replace(' ', '_')\n",
    "df['postalcode'] = df['postalcode'].astype(str)\n",
    "df.to_csv(\"E:\\INTERNSHIP\\sample data.csv\", index=False)\n",
    "print(\" Data cleaning complete! File saved as 'sample_data_cleaned.csv'.\")"
   ]
  }
 ],
 "metadata": {
  "kernelspec": {
   "display_name": "Python 3",
   "language": "python",
   "name": "python3"
  },
  "language_info": {
   "codemirror_mode": {
    "name": "ipython",
    "version": 3
   },
   "file_extension": ".py",
   "mimetype": "text/x-python",
   "name": "python",
   "nbconvert_exporter": "python",
   "pygments_lexer": "ipython3",
   "version": "3.12.2"
  }
 },
 "nbformat": 4,
 "nbformat_minor": 2
}
